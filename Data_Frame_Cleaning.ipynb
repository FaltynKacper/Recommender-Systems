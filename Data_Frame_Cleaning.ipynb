{
 "cells": [
  {
   "cell_type": "code",
   "execution_count": 1,
   "id": "62511fb6-c32b-4d37-b316-235a41662ade",
   "metadata": {},
   "outputs": [],
   "source": [
    "import pandas as pd"
   ]
  },
  {
   "cell_type": "code",
   "execution_count": 2,
   "id": "b40cb19c-33d5-41cc-857d-cac2662fdefd",
   "metadata": {},
   "outputs": [
    {
     "name": "stdout",
     "output_type": "stream",
     "text": [
      "<class 'pandas.core.frame.DataFrame'>\n",
      "RangeIndex: 10000 entries, 0 to 9999\n",
      "Data columns (total 23 columns):\n",
      " #   Column                     Non-Null Count  Dtype  \n",
      "---  ------                     --------------  -----  \n",
      " 0   book_id                    10000 non-null  int64  \n",
      " 1   goodreads_book_id          10000 non-null  int64  \n",
      " 2   best_book_id               10000 non-null  int64  \n",
      " 3   work_id                    10000 non-null  int64  \n",
      " 4   books_count                10000 non-null  int64  \n",
      " 5   isbn                       9300 non-null   object \n",
      " 6   isbn13                     9415 non-null   float64\n",
      " 7   authors                    10000 non-null  object \n",
      " 8   original_publication_year  9979 non-null   float64\n",
      " 9   original_title             9415 non-null   object \n",
      " 10  title                      10000 non-null  object \n",
      " 11  language_code              8916 non-null   object \n",
      " 12  average_rating             10000 non-null  float64\n",
      " 13  ratings_count              10000 non-null  int64  \n",
      " 14  work_ratings_count         10000 non-null  int64  \n",
      " 15  work_text_reviews_count    10000 non-null  int64  \n",
      " 16  ratings_1                  10000 non-null  int64  \n",
      " 17  ratings_2                  10000 non-null  int64  \n",
      " 18  ratings_3                  10000 non-null  int64  \n",
      " 19  ratings_4                  10000 non-null  int64  \n",
      " 20  ratings_5                  10000 non-null  int64  \n",
      " 21  image_url                  10000 non-null  object \n",
      " 22  small_image_url            10000 non-null  object \n",
      "dtypes: float64(3), int64(13), object(7)\n",
      "memory usage: 1.8+ MB\n"
     ]
    }
   ],
   "source": [
    "df_books = pd.read_csv('/.spyder-py3/files/input/books.csv')\n",
    "df_books.info()"
   ]
  },
  {
   "cell_type": "code",
   "execution_count": 3,
   "id": "ceb7190f-abab-4c9c-a3b4-33d68a6e13e8",
   "metadata": {},
   "outputs": [
    {
     "name": "stdout",
     "output_type": "stream",
     "text": [
      "<class 'pandas.core.frame.DataFrame'>\n",
      "Int64Index: 9274 entries, 0 to 9999\n",
      "Data columns (total 23 columns):\n",
      " #   Column                     Non-Null Count  Dtype  \n",
      "---  ------                     --------------  -----  \n",
      " 0   book_id                    9274 non-null   int64  \n",
      " 1   goodreads_book_id          9274 non-null   int64  \n",
      " 2   best_book_id               9274 non-null   int64  \n",
      " 3   work_id                    9274 non-null   int64  \n",
      " 4   books_count                9274 non-null   int64  \n",
      " 5   isbn                       8728 non-null   object \n",
      " 6   isbn13                     8828 non-null   float64\n",
      " 7   authors                    9274 non-null   object \n",
      " 8   original_publication_year  9268 non-null   float64\n",
      " 9   original_title             9274 non-null   object \n",
      " 10  title                      9274 non-null   object \n",
      " 11  language_code              8281 non-null   object \n",
      " 12  average_rating             9274 non-null   float64\n",
      " 13  ratings_count              9274 non-null   int64  \n",
      " 14  work_ratings_count         9274 non-null   int64  \n",
      " 15  work_text_reviews_count    9274 non-null   int64  \n",
      " 16  ratings_1                  9274 non-null   int64  \n",
      " 17  ratings_2                  9274 non-null   int64  \n",
      " 18  ratings_3                  9274 non-null   int64  \n",
      " 19  ratings_4                  9274 non-null   int64  \n",
      " 20  ratings_5                  9274 non-null   int64  \n",
      " 21  image_url                  9274 non-null   object \n",
      " 22  small_image_url            9274 non-null   object \n",
      "dtypes: float64(3), int64(13), object(7)\n",
      "memory usage: 1.7+ MB\n"
     ]
    }
   ],
   "source": [
    "df_books = df_books.drop_duplicates(subset = ['original_title'])\n",
    "df_books = df_books.dropna(subset = ['original_title'])\n",
    "df_books.info()"
   ]
  },
  {
   "cell_type": "code",
   "execution_count": 4,
   "id": "609f05ff-8cc3-4c9f-9388-7d7ce9a8a84d",
   "metadata": {},
   "outputs": [
    {
     "name": "stdout",
     "output_type": "stream",
     "text": [
      "<class 'pandas.core.frame.DataFrame'>\n",
      "RangeIndex: 5976479 entries, 0 to 5976478\n",
      "Data columns (total 3 columns):\n",
      " #   Column   Dtype\n",
      "---  ------   -----\n",
      " 0   user_id  int64\n",
      " 1   book_id  int64\n",
      " 2   rating   int64\n",
      "dtypes: int64(3)\n",
      "memory usage: 136.8 MB\n"
     ]
    }
   ],
   "source": [
    "df_ratings = pd.read_csv('/.spyder-py3/files/input/ratings.csv')\n",
    "df_ratings.info()"
   ]
  },
  {
   "cell_type": "code",
   "execution_count": 5,
   "id": "2569907a-23c6-4d34-9ba4-644ce5d9d49f",
   "metadata": {},
   "outputs": [
    {
     "name": "stdout",
     "output_type": "stream",
     "text": [
      "<class 'pandas.core.frame.DataFrame'>\n",
      "Int64Index: 5976479 entries, 0 to 5976478\n",
      "Data columns (total 3 columns):\n",
      " #   Column   Dtype\n",
      "---  ------   -----\n",
      " 0   user_id  int64\n",
      " 1   book_id  int64\n",
      " 2   rating   int64\n",
      "dtypes: int64(3)\n",
      "memory usage: 182.4 MB\n"
     ]
    }
   ],
   "source": [
    "df_ratings = df_ratings.drop_duplicates()\n",
    "df_ratings = df_ratings.dropna()\n",
    "df_ratings.info()"
   ]
  },
  {
   "cell_type": "code",
   "execution_count": 6,
   "id": "023014ce-6d94-4351-bfef-1ff062fba9cf",
   "metadata": {},
   "outputs": [],
   "source": [
    "df_books = df_books[df_books.book_id.isin(df_ratings.book_id)]\n",
    "df_ratings = df_ratings[df_ratings.book_id.isin(df_books.book_id)]"
   ]
  },
  {
   "cell_type": "code",
   "execution_count": 7,
   "id": "d2d8797e-585e-4177-89f8-d5c5598e357c",
   "metadata": {},
   "outputs": [
    {
     "name": "stdout",
     "output_type": "stream",
     "text": [
      "9274\n",
      "9274\n"
     ]
    }
   ],
   "source": [
    "print(len(df_books.book_id.unique()))\n",
    "print(len(df_ratings.book_id.unique()))"
   ]
  }
 ],
 "metadata": {
  "kernelspec": {
   "display_name": "Python 3",
   "language": "python",
   "name": "python3"
  },
  "language_info": {
   "codemirror_mode": {
    "name": "ipython",
    "version": 3
   },
   "file_extension": ".py",
   "mimetype": "text/x-python",
   "name": "python",
   "nbconvert_exporter": "python",
   "pygments_lexer": "ipython3",
   "version": "3.8.10"
  }
 },
 "nbformat": 4,
 "nbformat_minor": 5
}
